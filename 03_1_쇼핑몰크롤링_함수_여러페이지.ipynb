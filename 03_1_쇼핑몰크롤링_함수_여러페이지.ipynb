{
 "cells": [
  {
   "cell_type": "markdown",
   "metadata": {},
   "source": [
    "### 쇼핑몰의 여러 페이지에 진열된 상품 크롤링 하기, 함수 구성 해보기"
   ]
  },
  {
   "cell_type": "markdown",
   "metadata": {},
   "source": [
    "## 함수를 기능별로 세분화\n",
    "- 요청 및 파싱 객체 생성 : get_request_product(url), 반환\n",
    "값-bs4 객체\n",
    "- 전체 정보 추출 : get_page_product(bs_obj)\n",
    "    - bs_obj를 전달받아서\n",
    "    - get_product_info(box)를 호출(제품 1개에 대한 정보가 반환)\n",
    "    - df을 생성 후 저장\n",
    "- 각 제품의 정보 추출 : get_product_info(box)\n",
    "    - 제품 정보 1개에 대해 제품명/가격/세일가격을 추출해서 반환"
   ]
  },
  {
   "cell_type": "code",
   "execution_count": 31,
   "metadata": {},
   "outputs": [
    {
     "name": "stdout",
     "output_type": "stream",
     "text": [
      "Requirement already satisfied: BeautifulSoup4 in c:\\users\\sju02\\appdata\\local\\programs\\python\\python310\\lib\\site-packages (4.11.1)\n",
      "Requirement already satisfied: soupsieve>1.2 in c:\\users\\sju02\\appdata\\local\\programs\\python\\python310\\lib\\site-packages (from BeautifulSoup4) (2.3.2.post1)\n",
      "Note: you may need to restart the kernel to use updated packages.\n"
     ]
    },
    {
     "name": "stderr",
     "output_type": "stream",
     "text": [
      "WARNING: You are using pip version 22.0.4; however, version 22.2.1 is available.\n",
      "You should consider upgrading via the 'c:\\Users\\sju02\\AppData\\Local\\Programs\\Python\\Python310\\python.exe -m pip install --upgrade pip' command.\n"
     ]
    }
   ],
   "source": [
    "pip install BeautifulSoup4"
   ]
  },
  {
   "cell_type": "code",
   "execution_count": 32,
   "metadata": {},
   "outputs": [],
   "source": [
    "from urllib.request import urlopen\n",
    "from bs4 import BeautifulSoup\n",
    "import pandas as pd\n",
    "import numpy as np\n",
    "import ssl\n",
    "# context = ssl._create_unverified_context()\n",
    "url=\"http://jolse.com/category/toners-mists/1019/\""
   ]
  },
  {
   "cell_type": "markdown",
   "metadata": {},
   "source": [
    "##### 1.데이터 프레임 생성"
   ]
  },
  {
   "cell_type": "code",
   "execution_count": 33,
   "metadata": {},
   "outputs": [],
   "source": [
    "prd_dict = {'product' :[],'price' :[],'sale_price' :[]}\n",
    "df_fin = pd.DataFrame(prd_dict)"
   ]
  },
  {
   "cell_type": "code",
   "execution_count": 34,
   "metadata": {},
   "outputs": [
    {
     "data": {
      "text/html": [
       "<div>\n",
       "<style scoped>\n",
       "    .dataframe tbody tr th:only-of-type {\n",
       "        vertical-align: middle;\n",
       "    }\n",
       "\n",
       "    .dataframe tbody tr th {\n",
       "        vertical-align: top;\n",
       "    }\n",
       "\n",
       "    .dataframe thead th {\n",
       "        text-align: right;\n",
       "    }\n",
       "</style>\n",
       "<table border=\"1\" class=\"dataframe\">\n",
       "  <thead>\n",
       "    <tr style=\"text-align: right;\">\n",
       "      <th></th>\n",
       "      <th>product</th>\n",
       "      <th>price</th>\n",
       "      <th>sale_price</th>\n",
       "    </tr>\n",
       "  </thead>\n",
       "  <tbody>\n",
       "  </tbody>\n",
       "</table>\n",
       "</div>"
      ],
      "text/plain": [
       "Empty DataFrame\n",
       "Columns: [product, price, sale_price]\n",
       "Index: []"
      ]
     },
     "execution_count": 34,
     "metadata": {},
     "output_type": "execute_result"
    }
   ],
   "source": [
    "df_fin"
   ]
  },
  {
   "cell_type": "markdown",
   "metadata": {},
   "source": [
    "##### 2.요청 및 파싱 객체 생성"
   ]
  },
  {
   "cell_type": "code",
   "execution_count": 35,
   "metadata": {},
   "outputs": [],
   "source": [
    "def get_request_product(url) :\n",
    "    url = 'http://jolse.com/category/toners-mists/1019/'\n",
    "    htmls = urlopen(url)\n",
    "    htmls = htmls.read()\n",
    "    \n",
    "\n",
    "    #파싱 객체 생성\n",
    "    bs_obj=BeautifulSoup(htmls,'html.parser')\n",
    "    return bs_obj"
   ]
  },
  {
   "cell_type": "markdown",
   "metadata": {},
   "source": [
    "##### 3.페이지 내 제품 정보 추출"
   ]
  },
  {
   "cell_type": "code",
   "execution_count": 49,
   "metadata": {},
   "outputs": [],
   "source": [
    "def get_product_info(box) :\n",
    "    #제품 이름\n",
    "    strong_tag = box.find('strong',{'class':'name'})\n",
    "    prd_name = strong_tag.text.split(':')[1]\n",
    "    #가격\n",
    "    price = box.find('ul').findAll('span')[1].text\n",
    "    #세일가격\n",
    "    sale_price = box.find('ul').findAll('span')[-1].text\n",
    "\n",
    "    return {'product':prd_name, 'price': price, 'sale_price':sale_price}\n",
    "    print(strong_tag.text)"
   ]
  },
  {
   "cell_type": "code",
   "execution_count": 50,
   "metadata": {},
   "outputs": [],
   "source": [
    "def get_page_product(url) :\n",
    "    bs_obj = get_request_product(url)\n",
    "\n",
    "    global df_fin #전역 변수 처리\n",
    "\n",
    "    #페이지 내 전체 제품정보 추출\n",
    "    boxes = bs_obj.findAll('div',{'class':'description'}) #제품 이름, 가격, 세일가격\n",
    "    for box in boxes :\n",
    "        res = pd.DataFrame(get_product_info(box),index=range(1,2)) #인덱스 지정 안하면 에러나서 일시적으로 생성\n",
    "        df_fin = pd.concat([df_fin,res],axis=0,ignore_index=True)"
   ]
  },
  {
   "cell_type": "code",
   "execution_count": 51,
   "metadata": {},
   "outputs": [
    {
     "data": {
      "text/plain": [
       "'http://jolse.com/category/toners-mists/1019/'"
      ]
     },
     "execution_count": 51,
     "metadata": {},
     "output_type": "execute_result"
    }
   ],
   "source": [
    "url"
   ]
  },
  {
   "cell_type": "code",
   "execution_count": 52,
   "metadata": {},
   "outputs": [],
   "source": [
    "#함수 불러오기\n",
    "get_page_product(url)"
   ]
  },
  {
   "cell_type": "code",
   "execution_count": 53,
   "metadata": {},
   "outputs": [
    {
     "data": {
      "text/html": [
       "<div>\n",
       "<style scoped>\n",
       "    .dataframe tbody tr th:only-of-type {\n",
       "        vertical-align: middle;\n",
       "    }\n",
       "\n",
       "    .dataframe tbody tr th {\n",
       "        vertical-align: top;\n",
       "    }\n",
       "\n",
       "    .dataframe thead th {\n",
       "        text-align: right;\n",
       "    }\n",
       "</style>\n",
       "<table border=\"1\" class=\"dataframe\">\n",
       "  <thead>\n",
       "    <tr style=\"text-align: right;\">\n",
       "      <th></th>\n",
       "      <th>product</th>\n",
       "      <th>price</th>\n",
       "      <th>sale_price</th>\n",
       "    </tr>\n",
       "  </thead>\n",
       "  <tbody>\n",
       "    <tr>\n",
       "      <th>0</th>\n",
       "      <td>Abib Heartleaf Calming Toner Skin Booster 200ml</td>\n",
       "      <td>USD 21.00</td>\n",
       "      <td>USD 17.85</td>\n",
       "    </tr>\n",
       "    <tr>\n",
       "      <th>1</th>\n",
       "      <td>SOME BY MI Propolis B5 Glow Barrier Calming T...</td>\n",
       "      <td>USD 22.00</td>\n",
       "      <td>USD 17.60</td>\n",
       "    </tr>\n",
       "    <tr>\n",
       "      <th>2</th>\n",
       "      <td>Cos De BAHA Centella Facial Toner 200ml</td>\n",
       "      <td>USD 16.45</td>\n",
       "      <td>USD 13.98</td>\n",
       "    </tr>\n",
       "    <tr>\n",
       "      <th>3</th>\n",
       "      <td>Haruharu WONDER Black Rice Hyaluronic Toner 3...</td>\n",
       "      <td>USD 37.00</td>\n",
       "      <td>USD 31.45</td>\n",
       "    </tr>\n",
       "    <tr>\n",
       "      <th>4</th>\n",
       "      <td>Isntree Hyaluronic Acid Toner 200ml (Renewal)</td>\n",
       "      <td>USD 19.00</td>\n",
       "      <td>USD 16.15</td>\n",
       "    </tr>\n",
       "    <tr>\n",
       "      <th>5</th>\n",
       "      <td>SOME BY MI AHA BHA PHA 30 Days Miracle Toner ...</td>\n",
       "      <td>USD 24.00</td>\n",
       "      <td>USD 17.40</td>\n",
       "    </tr>\n",
       "    <tr>\n",
       "      <th>6</th>\n",
       "      <td>Pyunkang Yul Essence Toner 100ml</td>\n",
       "      <td>USD 14.50</td>\n",
       "      <td>USD 9.89</td>\n",
       "    </tr>\n",
       "    <tr>\n",
       "      <th>7</th>\n",
       "      <td>secretKey Hyaluron Aqua Soft Toner 500ml</td>\n",
       "      <td>USD 22.00</td>\n",
       "      <td>USD 18.70</td>\n",
       "    </tr>\n",
       "    <tr>\n",
       "      <th>8</th>\n",
       "      <td>ROUND LAB 1025 Dokdo Toner 200ml</td>\n",
       "      <td>USD 17.00</td>\n",
       "      <td>USD 14.45</td>\n",
       "    </tr>\n",
       "    <tr>\n",
       "      <th>9</th>\n",
       "      <td>SOME BY MI Snail Truecica Miracle Repair Tone...</td>\n",
       "      <td>USD 24.00</td>\n",
       "      <td>USD 17.40</td>\n",
       "    </tr>\n",
       "    <tr>\n",
       "      <th>10</th>\n",
       "      <td>Dr.MYSKIN Vita Galacto Bifida 90 Toner 110ml</td>\n",
       "      <td>USD 15.70</td>\n",
       "      <td>USD 13.34</td>\n",
       "    </tr>\n",
       "    <tr>\n",
       "      <th>11</th>\n",
       "      <td>COSRX AHA 7 WHITEHEAD POWER LIQUID 100ml</td>\n",
       "      <td>USD 17.81</td>\n",
       "      <td>USD 10.99</td>\n",
       "    </tr>\n",
       "    <tr>\n",
       "      <th>12</th>\n",
       "      <td>secretKey Fresh Toner 248ml</td>\n",
       "      <td>USD 12.00</td>\n",
       "      <td>USD 10.20</td>\n",
       "    </tr>\n",
       "    <tr>\n",
       "      <th>13</th>\n",
       "      <td>BLITHE Vital Treatment 8 Nourishing Beans 150ml</td>\n",
       "      <td>USD 42.90</td>\n",
       "      <td>USD 36.46</td>\n",
       "    </tr>\n",
       "    <tr>\n",
       "      <th>14</th>\n",
       "      <td>COSRX Two In One Poreless Power Liquid 100ml</td>\n",
       "      <td>USD 22.00</td>\n",
       "      <td>USD 14.85</td>\n",
       "    </tr>\n",
       "    <tr>\n",
       "      <th>15</th>\n",
       "      <td>Pyunkang Yul Essence Toner 200ml</td>\n",
       "      <td>USD 21.90</td>\n",
       "      <td>USD 15.33</td>\n",
       "    </tr>\n",
       "    <tr>\n",
       "      <th>16</th>\n",
       "      <td>Isntree Clear Skin BHA Toner 200ml</td>\n",
       "      <td>USD 21.96</td>\n",
       "      <td>USD 18.67</td>\n",
       "    </tr>\n",
       "    <tr>\n",
       "      <th>17</th>\n",
       "      <td>COSRX One Step Moisture Up Pad 70ea</td>\n",
       "      <td>USD 19.50</td>\n",
       "      <td>USD 14.62</td>\n",
       "    </tr>\n",
       "    <tr>\n",
       "      <th>18</th>\n",
       "      <td>Elizavecca Hell-Pore Clean up AHA Fruit Toner...</td>\n",
       "      <td>USD 14.00</td>\n",
       "      <td>USD 11.90</td>\n",
       "    </tr>\n",
       "    <tr>\n",
       "      <th>19</th>\n",
       "      <td>BENTON Aloe BHA Skin Toner 200ml</td>\n",
       "      <td>USD 19.00</td>\n",
       "      <td>USD 14.99</td>\n",
       "    </tr>\n",
       "    <tr>\n",
       "      <th>20</th>\n",
       "      <td>COSRX BHA BLACKHEAD POWER LIQUID 100 ML</td>\n",
       "      <td>USD 20.81</td>\n",
       "      <td>USD 12.99</td>\n",
       "    </tr>\n",
       "    <tr>\n",
       "      <th>21</th>\n",
       "      <td>SKIN&amp;LAB Medicica Balancing Toner 180ml</td>\n",
       "      <td>USD 21.63</td>\n",
       "      <td>USD 12.97</td>\n",
       "    </tr>\n",
       "    <tr>\n",
       "      <th>22</th>\n",
       "      <td>TIAM Vita B5 Toner 180ml</td>\n",
       "      <td>USD 18.60</td>\n",
       "      <td>USD 11.99</td>\n",
       "    </tr>\n",
       "    <tr>\n",
       "      <th>23</th>\n",
       "      <td>BADSKIN Hyaluronic Spa Toner 500ml</td>\n",
       "      <td>USD 26.00</td>\n",
       "      <td>USD 22.10</td>\n",
       "    </tr>\n",
       "  </tbody>\n",
       "</table>\n",
       "</div>"
      ],
      "text/plain": [
       "                                              product      price sale_price\n",
       "0     Abib Heartleaf Calming Toner Skin Booster 200ml  USD 21.00  USD 17.85\n",
       "1    SOME BY MI Propolis B5 Glow Barrier Calming T...  USD 22.00  USD 17.60\n",
       "2             Cos De BAHA Centella Facial Toner 200ml  USD 16.45  USD 13.98\n",
       "3    Haruharu WONDER Black Rice Hyaluronic Toner 3...  USD 37.00  USD 31.45\n",
       "4       Isntree Hyaluronic Acid Toner 200ml (Renewal)  USD 19.00  USD 16.15\n",
       "5    SOME BY MI AHA BHA PHA 30 Days Miracle Toner ...  USD 24.00  USD 17.40\n",
       "6                    Pyunkang Yul Essence Toner 100ml  USD 14.50   USD 9.89\n",
       "7            secretKey Hyaluron Aqua Soft Toner 500ml  USD 22.00  USD 18.70\n",
       "8                    ROUND LAB 1025 Dokdo Toner 200ml  USD 17.00  USD 14.45\n",
       "9    SOME BY MI Snail Truecica Miracle Repair Tone...  USD 24.00  USD 17.40\n",
       "10       Dr.MYSKIN Vita Galacto Bifida 90 Toner 110ml  USD 15.70  USD 13.34\n",
       "11           COSRX AHA 7 WHITEHEAD POWER LIQUID 100ml  USD 17.81  USD 10.99\n",
       "12                        secretKey Fresh Toner 248ml  USD 12.00  USD 10.20\n",
       "13    BLITHE Vital Treatment 8 Nourishing Beans 150ml  USD 42.90  USD 36.46\n",
       "14       COSRX Two In One Poreless Power Liquid 100ml  USD 22.00  USD 14.85\n",
       "15                   Pyunkang Yul Essence Toner 200ml  USD 21.90  USD 15.33\n",
       "16                 Isntree Clear Skin BHA Toner 200ml  USD 21.96  USD 18.67\n",
       "17                COSRX One Step Moisture Up Pad 70ea  USD 19.50  USD 14.62\n",
       "18   Elizavecca Hell-Pore Clean up AHA Fruit Toner...  USD 14.00  USD 11.90\n",
       "19                   BENTON Aloe BHA Skin Toner 200ml  USD 19.00  USD 14.99\n",
       "20            COSRX BHA BLACKHEAD POWER LIQUID 100 ML  USD 20.81  USD 12.99\n",
       "21            SKIN&LAB Medicica Balancing Toner 180ml  USD 21.63  USD 12.97\n",
       "22                           TIAM Vita B5 Toner 180ml  USD 18.60  USD 11.99\n",
       "23                 BADSKIN Hyaluronic Spa Toner 500ml  USD 26.00  USD 22.10"
      ]
     },
     "execution_count": 53,
     "metadata": {},
     "output_type": "execute_result"
    }
   ],
   "source": [
    "df_fin"
   ]
  },
  {
   "cell_type": "markdown",
   "metadata": {},
   "source": [
    "##### 4.여러 페이지 추출\n",
    "- 해당 쇼핑몰의 url 분석\n",
    "- 각 페이지에 대하여 url에 파라미터가 다르게 전송됨\n",
    "- https://jolse.com/category/toners-mists/1019?page= + 페이지번호\n",
    "- url 작성시 페이지번호를 따로 부착"
   ]
  },
  {
   "cell_type": "markdown",
   "metadata": {},
   "source": [
    "https://jolse.com/category/toners-mists/1019/?page=3"
   ]
  },
  {
   "cell_type": "code",
   "execution_count": 54,
   "metadata": {},
   "outputs": [
    {
     "name": "stdout",
     "output_type": "stream",
     "text": [
      "https://jolse.com/category/toners-mists/1019/?page=2\n",
      "https://jolse.com/category/toners-mists/1019/?page=3\n",
      "https://jolse.com/category/toners-mists/1019/?page=4\n"
     ]
    }
   ],
   "source": [
    "base_url='https://jolse.com/category/toners-mists/1019/?page='\n",
    "for i in range(2,5) :\n",
    "    url= base_url + str(i)\n",
    "    get_page_product(url)\n",
    "    print(url)"
   ]
  },
  {
   "cell_type": "code",
   "execution_count": 55,
   "metadata": {},
   "outputs": [
    {
     "data": {
      "text/plain": [
       "'1'"
      ]
     },
     "execution_count": 55,
     "metadata": {},
     "output_type": "execute_result"
    }
   ],
   "source": [
    "url=base_url+str(1) #주소가 문자라서 문자처리 필요, 인덱스라 보여지는 순서로 숫자처리 하기 위해 1 더해줌\n",
    "url[-1]\n"
   ]
  },
  {
   "cell_type": "code",
   "execution_count": 56,
   "metadata": {},
   "outputs": [
    {
     "data": {
      "text/html": [
       "<div>\n",
       "<style scoped>\n",
       "    .dataframe tbody tr th:only-of-type {\n",
       "        vertical-align: middle;\n",
       "    }\n",
       "\n",
       "    .dataframe tbody tr th {\n",
       "        vertical-align: top;\n",
       "    }\n",
       "\n",
       "    .dataframe thead th {\n",
       "        text-align: right;\n",
       "    }\n",
       "</style>\n",
       "<table border=\"1\" class=\"dataframe\">\n",
       "  <thead>\n",
       "    <tr style=\"text-align: right;\">\n",
       "      <th></th>\n",
       "      <th>product</th>\n",
       "      <th>price</th>\n",
       "      <th>sale_price</th>\n",
       "    </tr>\n",
       "  </thead>\n",
       "  <tbody>\n",
       "    <tr>\n",
       "      <th>0</th>\n",
       "      <td>Abib Heartleaf Calming Toner Skin Booster 200ml</td>\n",
       "      <td>USD 21.00</td>\n",
       "      <td>USD 17.85</td>\n",
       "    </tr>\n",
       "    <tr>\n",
       "      <th>1</th>\n",
       "      <td>SOME BY MI Propolis B5 Glow Barrier Calming T...</td>\n",
       "      <td>USD 22.00</td>\n",
       "      <td>USD 17.60</td>\n",
       "    </tr>\n",
       "    <tr>\n",
       "      <th>2</th>\n",
       "      <td>Cos De BAHA Centella Facial Toner 200ml</td>\n",
       "      <td>USD 16.45</td>\n",
       "      <td>USD 13.98</td>\n",
       "    </tr>\n",
       "    <tr>\n",
       "      <th>3</th>\n",
       "      <td>Haruharu WONDER Black Rice Hyaluronic Toner 3...</td>\n",
       "      <td>USD 37.00</td>\n",
       "      <td>USD 31.45</td>\n",
       "    </tr>\n",
       "    <tr>\n",
       "      <th>4</th>\n",
       "      <td>Isntree Hyaluronic Acid Toner 200ml (Renewal)</td>\n",
       "      <td>USD 19.00</td>\n",
       "      <td>USD 16.15</td>\n",
       "    </tr>\n",
       "    <tr>\n",
       "      <th>...</th>\n",
       "      <td>...</td>\n",
       "      <td>...</td>\n",
       "      <td>...</td>\n",
       "    </tr>\n",
       "    <tr>\n",
       "      <th>91</th>\n",
       "      <td>NEOGEN Dermalogy Real Ferment Micro Toner 150ml</td>\n",
       "      <td>USD 22.00</td>\n",
       "      <td>USD 18.70</td>\n",
       "    </tr>\n",
       "    <tr>\n",
       "      <th>92</th>\n",
       "      <td>Papa Recipe  Tea Tree Control Skin 200ml</td>\n",
       "      <td>USD 21.00</td>\n",
       "      <td>USD 17.85</td>\n",
       "    </tr>\n",
       "    <tr>\n",
       "      <th>93</th>\n",
       "      <td>Papa Recipe Eggplant Clearing Peeling Pad Ton...</td>\n",
       "      <td>USD 18.00</td>\n",
       "      <td>USD 15.30</td>\n",
       "    </tr>\n",
       "    <tr>\n",
       "      <th>94</th>\n",
       "      <td>Papa Recipe Eggplant Clearing Peeling Pad Ton...</td>\n",
       "      <td>USD 28.00</td>\n",
       "      <td>USD 23.80</td>\n",
       "    </tr>\n",
       "    <tr>\n",
       "      <th>95</th>\n",
       "      <td>JUICE TO CLEANSE Vinegar Kombucha Essence 150ml</td>\n",
       "      <td>USD 39.00</td>\n",
       "      <td>USD 33.15</td>\n",
       "    </tr>\n",
       "  </tbody>\n",
       "</table>\n",
       "<p>96 rows × 3 columns</p>\n",
       "</div>"
      ],
      "text/plain": [
       "                                              product      price sale_price\n",
       "0     Abib Heartleaf Calming Toner Skin Booster 200ml  USD 21.00  USD 17.85\n",
       "1    SOME BY MI Propolis B5 Glow Barrier Calming T...  USD 22.00  USD 17.60\n",
       "2             Cos De BAHA Centella Facial Toner 200ml  USD 16.45  USD 13.98\n",
       "3    Haruharu WONDER Black Rice Hyaluronic Toner 3...  USD 37.00  USD 31.45\n",
       "4       Isntree Hyaluronic Acid Toner 200ml (Renewal)  USD 19.00  USD 16.15\n",
       "..                                                ...        ...        ...\n",
       "91    NEOGEN Dermalogy Real Ferment Micro Toner 150ml  USD 22.00  USD 18.70\n",
       "92           Papa Recipe  Tea Tree Control Skin 200ml  USD 21.00  USD 17.85\n",
       "93   Papa Recipe Eggplant Clearing Peeling Pad Ton...  USD 18.00  USD 15.30\n",
       "94   Papa Recipe Eggplant Clearing Peeling Pad Ton...  USD 28.00  USD 23.80\n",
       "95    JUICE TO CLEANSE Vinegar Kombucha Essence 150ml  USD 39.00  USD 33.15\n",
       "\n",
       "[96 rows x 3 columns]"
      ]
     },
     "execution_count": 56,
     "metadata": {},
     "output_type": "execute_result"
    }
   ],
   "source": [
    "df_fin"
   ]
  },
  {
   "cell_type": "code",
   "execution_count": 57,
   "metadata": {},
   "outputs": [],
   "source": [
    "#수집 데이터 저장\n",
    "df_fin.to_csv('./crawl_data/beauty_price.csv',index=False)"
   ]
  },
  {
   "cell_type": "code",
   "execution_count": 58,
   "metadata": {},
   "outputs": [
    {
     "data": {
      "text/html": [
       "<div>\n",
       "<style scoped>\n",
       "    .dataframe tbody tr th:only-of-type {\n",
       "        vertical-align: middle;\n",
       "    }\n",
       "\n",
       "    .dataframe tbody tr th {\n",
       "        vertical-align: top;\n",
       "    }\n",
       "\n",
       "    .dataframe thead th {\n",
       "        text-align: right;\n",
       "    }\n",
       "</style>\n",
       "<table border=\"1\" class=\"dataframe\">\n",
       "  <thead>\n",
       "    <tr style=\"text-align: right;\">\n",
       "      <th></th>\n",
       "      <th>product</th>\n",
       "      <th>price</th>\n",
       "      <th>sale_price</th>\n",
       "    </tr>\n",
       "  </thead>\n",
       "  <tbody>\n",
       "    <tr>\n",
       "      <th>0</th>\n",
       "      <td>Abib Heartleaf Calming Toner Skin Booster 200ml</td>\n",
       "      <td>USD 21.00</td>\n",
       "      <td>USD 17.85</td>\n",
       "    </tr>\n",
       "    <tr>\n",
       "      <th>1</th>\n",
       "      <td>SOME BY MI Propolis B5 Glow Barrier Calming T...</td>\n",
       "      <td>USD 22.00</td>\n",
       "      <td>USD 17.60</td>\n",
       "    </tr>\n",
       "    <tr>\n",
       "      <th>2</th>\n",
       "      <td>Cos De BAHA Centella Facial Toner 200ml</td>\n",
       "      <td>USD 16.45</td>\n",
       "      <td>USD 13.98</td>\n",
       "    </tr>\n",
       "    <tr>\n",
       "      <th>3</th>\n",
       "      <td>Haruharu WONDER Black Rice Hyaluronic Toner 3...</td>\n",
       "      <td>USD 37.00</td>\n",
       "      <td>USD 31.45</td>\n",
       "    </tr>\n",
       "    <tr>\n",
       "      <th>4</th>\n",
       "      <td>Isntree Hyaluronic Acid Toner 200ml (Renewal)</td>\n",
       "      <td>USD 19.00</td>\n",
       "      <td>USD 16.15</td>\n",
       "    </tr>\n",
       "    <tr>\n",
       "      <th>...</th>\n",
       "      <td>...</td>\n",
       "      <td>...</td>\n",
       "      <td>...</td>\n",
       "    </tr>\n",
       "    <tr>\n",
       "      <th>91</th>\n",
       "      <td>NEOGEN Dermalogy Real Ferment Micro Toner 150ml</td>\n",
       "      <td>USD 22.00</td>\n",
       "      <td>USD 18.70</td>\n",
       "    </tr>\n",
       "    <tr>\n",
       "      <th>92</th>\n",
       "      <td>Papa Recipe  Tea Tree Control Skin 200ml</td>\n",
       "      <td>USD 21.00</td>\n",
       "      <td>USD 17.85</td>\n",
       "    </tr>\n",
       "    <tr>\n",
       "      <th>93</th>\n",
       "      <td>Papa Recipe Eggplant Clearing Peeling Pad Ton...</td>\n",
       "      <td>USD 18.00</td>\n",
       "      <td>USD 15.30</td>\n",
       "    </tr>\n",
       "    <tr>\n",
       "      <th>94</th>\n",
       "      <td>Papa Recipe Eggplant Clearing Peeling Pad Ton...</td>\n",
       "      <td>USD 28.00</td>\n",
       "      <td>USD 23.80</td>\n",
       "    </tr>\n",
       "    <tr>\n",
       "      <th>95</th>\n",
       "      <td>JUICE TO CLEANSE Vinegar Kombucha Essence 150ml</td>\n",
       "      <td>USD 39.00</td>\n",
       "      <td>USD 33.15</td>\n",
       "    </tr>\n",
       "  </tbody>\n",
       "</table>\n",
       "<p>96 rows × 3 columns</p>\n",
       "</div>"
      ],
      "text/plain": [
       "                                              product      price sale_price\n",
       "0     Abib Heartleaf Calming Toner Skin Booster 200ml  USD 21.00  USD 17.85\n",
       "1    SOME BY MI Propolis B5 Glow Barrier Calming T...  USD 22.00  USD 17.60\n",
       "2             Cos De BAHA Centella Facial Toner 200ml  USD 16.45  USD 13.98\n",
       "3    Haruharu WONDER Black Rice Hyaluronic Toner 3...  USD 37.00  USD 31.45\n",
       "4       Isntree Hyaluronic Acid Toner 200ml (Renewal)  USD 19.00  USD 16.15\n",
       "..                                                ...        ...        ...\n",
       "91    NEOGEN Dermalogy Real Ferment Micro Toner 150ml  USD 22.00  USD 18.70\n",
       "92           Papa Recipe  Tea Tree Control Skin 200ml  USD 21.00  USD 17.85\n",
       "93   Papa Recipe Eggplant Clearing Peeling Pad Ton...  USD 18.00  USD 15.30\n",
       "94   Papa Recipe Eggplant Clearing Peeling Pad Ton...  USD 28.00  USD 23.80\n",
       "95    JUICE TO CLEANSE Vinegar Kombucha Essence 150ml  USD 39.00  USD 33.15\n",
       "\n",
       "[96 rows x 3 columns]"
      ]
     },
     "execution_count": 58,
     "metadata": {},
     "output_type": "execute_result"
    }
   ],
   "source": [
    "df_fin"
   ]
  },
  {
   "cell_type": "markdown",
   "metadata": {},
   "source": [
    "## 연습문제\n",
    "- best 상품에 대해서 첫번째 페이지에서만 추출되고 그 후 페이지에서는 추출되지 않도록 **함수 수정**\n",
    "- 전체 페이지가 몇페이지인지를 크롤링을 통해서 얻어오고 해당 페이지 수 만큼 크롤링이 되게 코드 수정(위에랑 이어서)\n"
   ]
  },
  {
   "cell_type": "code",
   "execution_count": 59,
   "metadata": {},
   "outputs": [],
   "source": [
    "from urllib.request import urlopen\n",
    "from bs4 import BeautifulSoup\n",
    "import pandas as pd\n",
    "import numpy as np\n",
    "import ssl\n",
    "# context = ssl._create_unverified_context()\n",
    "# url=\"http://jolse.com/category/toners-mists/1019/\" #페이지번호 있는 링크를 밑에서 작업"
   ]
  },
  {
   "cell_type": "code",
   "execution_count": 60,
   "metadata": {},
   "outputs": [],
   "source": [
    "prd_dict = {'product' :[],'price' :[],'sale_price' :[]}\n",
    "df_fin = pd.DataFrame(prd_dict)"
   ]
  },
  {
   "cell_type": "code",
   "execution_count": 61,
   "metadata": {},
   "outputs": [],
   "source": [
    "#요청 및 파싱 객체 생성\n",
    "def get_request_product(url):\n",
    "    htmls = urlopen(url)\n",
    "    htmls = htmls.read()\n",
    "\n",
    "#2.파싱객체 생성\n",
    "    bs_obj = BeautifulSoup(htmls, 'html.parser')\n",
    "    return bs_obj"
   ]
  },
  {
   "cell_type": "code",
   "execution_count": 74,
   "metadata": {},
   "outputs": [],
   "source": [
    "#한개의 제품에 대한 정보 추출\n",
    "def get_product_info(box) :\n",
    "    strong_tag=box.find('strong',{'class':'name'})\n",
    "    prd_name = strong_tag.text.split(':')[1]\n",
    "\n",
    "#가격\n",
    "    price = box.find('ul').findAll('span')[1].text\n",
    "    sale_price=box.find('ul').findAll('span')[-1].text\n",
    "    return {'product':prd_name, 'price':price, 'sale_price':sale_price}"
   ]
  },
  {
   "cell_type": "code",
   "execution_count": 83,
   "metadata": {},
   "outputs": [],
   "source": [
    "#초기 호출 함수\n",
    "def get_page_product(url):\n",
    "    global df_fin\n",
    "    #요청 및 파싱 객체 생성\n",
    "    bs_obj= get_request_product(url)\n",
    "\n",
    "    #페이지 내 전체 제품정보 추출\n",
    "    boxes = bs_obj.findAll('div',{'class':'description'})\n",
    "\n",
    "    #1페이지가 아니면 추천제품은 다시 크롤링 하지 않게 조건식 생성\n",
    "    if url.split('=')[1] !='1' :\n",
    "        boxes =boxes[5:len(boxes)]\n",
    "\n",
    "    #각 제품에 대한 정보 추출\n",
    "    for box in boxes :\n",
    "        res = pd.DataFrame(get_product_info(box), index=range(1,2))\n",
    "        df_fin = pd.concat([df_fin,res], axis=0, ignore_index=True)\n"
   ]
  },
  {
   "cell_type": "code",
   "execution_count": 85,
   "metadata": {},
   "outputs": [],
   "source": [
    "base_url='https://jolse.com/category/toners-mists/1019/?page='\n",
    "for i in range(1,5):\n",
    "    url = base_url+str(i)\n",
    "    get_page_product(url)"
   ]
  },
  {
   "cell_type": "code",
   "execution_count": 86,
   "metadata": {},
   "outputs": [
    {
     "data": {
      "text/html": [
       "<div>\n",
       "<style scoped>\n",
       "    .dataframe tbody tr th:only-of-type {\n",
       "        vertical-align: middle;\n",
       "    }\n",
       "\n",
       "    .dataframe tbody tr th {\n",
       "        vertical-align: top;\n",
       "    }\n",
       "\n",
       "    .dataframe thead th {\n",
       "        text-align: right;\n",
       "    }\n",
       "</style>\n",
       "<table border=\"1\" class=\"dataframe\">\n",
       "  <thead>\n",
       "    <tr style=\"text-align: right;\">\n",
       "      <th></th>\n",
       "      <th>product</th>\n",
       "      <th>price</th>\n",
       "      <th>sale_price</th>\n",
       "    </tr>\n",
       "  </thead>\n",
       "  <tbody>\n",
       "    <tr>\n",
       "      <th>0</th>\n",
       "      <td>Abib Heartleaf Calming Toner Skin Booster 200ml</td>\n",
       "      <td>USD 21.00</td>\n",
       "      <td>USD 17.85</td>\n",
       "    </tr>\n",
       "    <tr>\n",
       "      <th>1</th>\n",
       "      <td>SOME BY MI Propolis B5 Glow Barrier Calming T...</td>\n",
       "      <td>USD 22.00</td>\n",
       "      <td>USD 17.60</td>\n",
       "    </tr>\n",
       "    <tr>\n",
       "      <th>2</th>\n",
       "      <td>Cos De BAHA Centella Facial Toner 200ml</td>\n",
       "      <td>USD 16.45</td>\n",
       "      <td>USD 13.98</td>\n",
       "    </tr>\n",
       "    <tr>\n",
       "      <th>3</th>\n",
       "      <td>Haruharu WONDER Black Rice Hyaluronic Toner 3...</td>\n",
       "      <td>USD 37.00</td>\n",
       "      <td>USD 31.45</td>\n",
       "    </tr>\n",
       "    <tr>\n",
       "      <th>4</th>\n",
       "      <td>Isntree Hyaluronic Acid Toner 200ml (Renewal)</td>\n",
       "      <td>USD 19.00</td>\n",
       "      <td>USD 16.15</td>\n",
       "    </tr>\n",
       "    <tr>\n",
       "      <th>...</th>\n",
       "      <td>...</td>\n",
       "      <td>...</td>\n",
       "      <td>...</td>\n",
       "    </tr>\n",
       "    <tr>\n",
       "      <th>76</th>\n",
       "      <td>NEOGEN Dermalogy Real Ferment Micro Toner 150ml</td>\n",
       "      <td>USD 22.00</td>\n",
       "      <td>USD 18.70</td>\n",
       "    </tr>\n",
       "    <tr>\n",
       "      <th>77</th>\n",
       "      <td>Papa Recipe  Tea Tree Control Skin 200ml</td>\n",
       "      <td>USD 21.00</td>\n",
       "      <td>USD 17.85</td>\n",
       "    </tr>\n",
       "    <tr>\n",
       "      <th>78</th>\n",
       "      <td>Papa Recipe Eggplant Clearing Peeling Pad Ton...</td>\n",
       "      <td>USD 18.00</td>\n",
       "      <td>USD 15.30</td>\n",
       "    </tr>\n",
       "    <tr>\n",
       "      <th>79</th>\n",
       "      <td>Papa Recipe Eggplant Clearing Peeling Pad Ton...</td>\n",
       "      <td>USD 28.00</td>\n",
       "      <td>USD 23.80</td>\n",
       "    </tr>\n",
       "    <tr>\n",
       "      <th>80</th>\n",
       "      <td>JUICE TO CLEANSE Vinegar Kombucha Essence 150ml</td>\n",
       "      <td>USD 39.00</td>\n",
       "      <td>USD 33.15</td>\n",
       "    </tr>\n",
       "  </tbody>\n",
       "</table>\n",
       "<p>81 rows × 3 columns</p>\n",
       "</div>"
      ],
      "text/plain": [
       "                                              product      price sale_price\n",
       "0     Abib Heartleaf Calming Toner Skin Booster 200ml  USD 21.00  USD 17.85\n",
       "1    SOME BY MI Propolis B5 Glow Barrier Calming T...  USD 22.00  USD 17.60\n",
       "2             Cos De BAHA Centella Facial Toner 200ml  USD 16.45  USD 13.98\n",
       "3    Haruharu WONDER Black Rice Hyaluronic Toner 3...  USD 37.00  USD 31.45\n",
       "4       Isntree Hyaluronic Acid Toner 200ml (Renewal)  USD 19.00  USD 16.15\n",
       "..                                                ...        ...        ...\n",
       "76    NEOGEN Dermalogy Real Ferment Micro Toner 150ml  USD 22.00  USD 18.70\n",
       "77           Papa Recipe  Tea Tree Control Skin 200ml  USD 21.00  USD 17.85\n",
       "78   Papa Recipe Eggplant Clearing Peeling Pad Ton...  USD 18.00  USD 15.30\n",
       "79   Papa Recipe Eggplant Clearing Peeling Pad Ton...  USD 28.00  USD 23.80\n",
       "80    JUICE TO CLEANSE Vinegar Kombucha Essence 150ml  USD 39.00  USD 33.15\n",
       "\n",
       "[81 rows x 3 columns]"
      ]
     },
     "execution_count": 86,
     "metadata": {},
     "output_type": "execute_result"
    }
   ],
   "source": [
    "df_fin"
   ]
  },
  {
   "cell_type": "code",
   "execution_count": 87,
   "metadata": {},
   "outputs": [
    {
     "data": {
      "text/html": [
       "<div>\n",
       "<style scoped>\n",
       "    .dataframe tbody tr th:only-of-type {\n",
       "        vertical-align: middle;\n",
       "    }\n",
       "\n",
       "    .dataframe tbody tr th {\n",
       "        vertical-align: top;\n",
       "    }\n",
       "\n",
       "    .dataframe thead th {\n",
       "        text-align: right;\n",
       "    }\n",
       "</style>\n",
       "<table border=\"1\" class=\"dataframe\">\n",
       "  <thead>\n",
       "    <tr style=\"text-align: right;\">\n",
       "      <th></th>\n",
       "      <th>product</th>\n",
       "      <th>price</th>\n",
       "      <th>sale_price</th>\n",
       "    </tr>\n",
       "  </thead>\n",
       "  <tbody>\n",
       "    <tr>\n",
       "      <th>0</th>\n",
       "      <td>Abib Heartleaf Calming Toner Skin Booster 200ml</td>\n",
       "      <td>USD 21.00</td>\n",
       "      <td>USD 17.85</td>\n",
       "    </tr>\n",
       "  </tbody>\n",
       "</table>\n",
       "</div>"
      ],
      "text/plain": [
       "                                            product      price sale_price\n",
       "0   Abib Heartleaf Calming Toner Skin Booster 200ml  USD 21.00  USD 17.85"
      ]
     },
     "execution_count": 87,
     "metadata": {},
     "output_type": "execute_result"
    }
   ],
   "source": [
    "df_fin[df_fin['product']==df_fin['product'][0]]"
   ]
  },
  {
   "cell_type": "code",
   "execution_count": 96,
   "metadata": {},
   "outputs": [
    {
     "data": {
      "text/plain": [
       "'4'"
      ]
     },
     "execution_count": 96,
     "metadata": {},
     "output_type": "execute_result"
    }
   ],
   "source": [
    "url.split('=')[1]"
   ]
  },
  {
   "cell_type": "code",
   "execution_count": 99,
   "metadata": {},
   "outputs": [],
   "source": [
    "#마지막 페이지 추출\n",
    "import ssl\n",
    "context = ssl._create_unverified_context() #파이썬에서 웹페이지에 https로 접속->인증 없이\n",
    "url='https://jolse.com/category/toners-mists/1019/'\n",
    "html = urlopen(url, context=context)\n",
    "htmls = html.read()"
   ]
  },
  {
   "cell_type": "code",
   "execution_count": 109,
   "metadata": {},
   "outputs": [
    {
     "data": {
      "text/plain": [
       "30"
      ]
     },
     "execution_count": 109,
     "metadata": {},
     "output_type": "execute_result"
    }
   ],
   "source": [
    "#2.파싱객체 생성\n",
    "bs_obj=BeautifulSoup(htmls, 'html.parser')\n",
    "last_page=bs_obj.find('a',{'class':'last'})\n",
    "last_page \n",
    "#<a class=\"last\" href=\"?page=30\"><img alt=\"Last\" src=\"//img.echosting.cafe24.com/skin/base/common/btn_page_last.gif\"/></a>\n",
    "\n",
    "last_page=bs_obj.find('a',{'class':'last'})['href']\n",
    "last_page #'?page=30'\n",
    "\n",
    "last_page=bs_obj.find('a',{'class':'last'})['href'].split('=')[1]\n",
    "last_page #30\n",
    "int(last_page)\n",
    " "
   ]
  },
  {
   "cell_type": "code",
   "execution_count": 110,
   "metadata": {},
   "outputs": [],
   "source": [
    "base_url='https://jolse.com/category/toners-mists/1019/?page='\n",
    "for i in range(1,int(last_page)+1):\n",
    "    url = base_url+str(i)\n",
    "    get_page_product(url)"
   ]
  },
  {
   "cell_type": "code",
   "execution_count": 111,
   "metadata": {},
   "outputs": [
    {
     "data": {
      "text/html": [
       "<div>\n",
       "<style scoped>\n",
       "    .dataframe tbody tr th:only-of-type {\n",
       "        vertical-align: middle;\n",
       "    }\n",
       "\n",
       "    .dataframe tbody tr th {\n",
       "        vertical-align: top;\n",
       "    }\n",
       "\n",
       "    .dataframe thead th {\n",
       "        text-align: right;\n",
       "    }\n",
       "</style>\n",
       "<table border=\"1\" class=\"dataframe\">\n",
       "  <thead>\n",
       "    <tr style=\"text-align: right;\">\n",
       "      <th></th>\n",
       "      <th>product</th>\n",
       "      <th>price</th>\n",
       "      <th>sale_price</th>\n",
       "    </tr>\n",
       "  </thead>\n",
       "  <tbody>\n",
       "    <tr>\n",
       "      <th>0</th>\n",
       "      <td>Abib Heartleaf Calming Toner Skin Booster 200ml</td>\n",
       "      <td>USD 21.00</td>\n",
       "      <td>USD 17.85</td>\n",
       "    </tr>\n",
       "    <tr>\n",
       "      <th>1</th>\n",
       "      <td>SOME BY MI Propolis B5 Glow Barrier Calming T...</td>\n",
       "      <td>USD 22.00</td>\n",
       "      <td>USD 17.60</td>\n",
       "    </tr>\n",
       "    <tr>\n",
       "      <th>2</th>\n",
       "      <td>Cos De BAHA Centella Facial Toner 200ml</td>\n",
       "      <td>USD 16.45</td>\n",
       "      <td>USD 13.98</td>\n",
       "    </tr>\n",
       "    <tr>\n",
       "      <th>3</th>\n",
       "      <td>Haruharu WONDER Black Rice Hyaluronic Toner 3...</td>\n",
       "      <td>USD 37.00</td>\n",
       "      <td>USD 31.45</td>\n",
       "    </tr>\n",
       "    <tr>\n",
       "      <th>4</th>\n",
       "      <td>Isntree Hyaluronic Acid Toner 200ml (Renewal)</td>\n",
       "      <td>USD 19.00</td>\n",
       "      <td>USD 16.15</td>\n",
       "    </tr>\n",
       "    <tr>\n",
       "      <th>...</th>\n",
       "      <td>...</td>\n",
       "      <td>...</td>\n",
       "      <td>...</td>\n",
       "    </tr>\n",
       "    <tr>\n",
       "      <th>636</th>\n",
       "      <td>MISSHA MISA Geum Sul Toner 145ml</td>\n",
       "      <td>USD 29.16</td>\n",
       "      <td>USD 18.22</td>\n",
       "    </tr>\n",
       "    <tr>\n",
       "      <th>637</th>\n",
       "      <td>Wish Formula Day Day 365 All In One Boosting ...</td>\n",
       "      <td>USD 25.11</td>\n",
       "      <td>USD 21.34</td>\n",
       "    </tr>\n",
       "    <tr>\n",
       "      <th>638</th>\n",
       "      <td>Sulwhasoo Snowise Brightening Water 125ml</td>\n",
       "      <td>USD 57.98</td>\n",
       "      <td>USD 49.28</td>\n",
       "    </tr>\n",
       "    <tr>\n",
       "      <th>639</th>\n",
       "      <td>TONYMOLY Tony Lab AC Control Toner 180ml</td>\n",
       "      <td>USD 18.07</td>\n",
       "      <td>USD 15.36</td>\n",
       "    </tr>\n",
       "    <tr>\n",
       "      <th>640</th>\n",
       "      <td>ZYMOGEN AC Dr. A-Sol 30ml</td>\n",
       "      <td>USD 13.98</td>\n",
       "      <td>USD 11.88</td>\n",
       "    </tr>\n",
       "  </tbody>\n",
       "</table>\n",
       "<p>641 rows × 3 columns</p>\n",
       "</div>"
      ],
      "text/plain": [
       "                                               product      price sale_price\n",
       "0      Abib Heartleaf Calming Toner Skin Booster 200ml  USD 21.00  USD 17.85\n",
       "1     SOME BY MI Propolis B5 Glow Barrier Calming T...  USD 22.00  USD 17.60\n",
       "2              Cos De BAHA Centella Facial Toner 200ml  USD 16.45  USD 13.98\n",
       "3     Haruharu WONDER Black Rice Hyaluronic Toner 3...  USD 37.00  USD 31.45\n",
       "4        Isntree Hyaluronic Acid Toner 200ml (Renewal)  USD 19.00  USD 16.15\n",
       "..                                                 ...        ...        ...\n",
       "636                   MISSHA MISA Geum Sul Toner 145ml  USD 29.16  USD 18.22\n",
       "637   Wish Formula Day Day 365 All In One Boosting ...  USD 25.11  USD 21.34\n",
       "638          Sulwhasoo Snowise Brightening Water 125ml  USD 57.98  USD 49.28\n",
       "639           TONYMOLY Tony Lab AC Control Toner 180ml  USD 18.07  USD 15.36\n",
       "640                          ZYMOGEN AC Dr. A-Sol 30ml  USD 13.98  USD 11.88\n",
       "\n",
       "[641 rows x 3 columns]"
      ]
     },
     "execution_count": 111,
     "metadata": {},
     "output_type": "execute_result"
    }
   ],
   "source": [
    "df_fin"
   ]
  }
 ],
 "metadata": {
  "kernelspec": {
   "display_name": "Python 3.10.5 64-bit",
   "language": "python",
   "name": "python3"
  },
  "language_info": {
   "codemirror_mode": {
    "name": "ipython",
    "version": 3
   },
   "file_extension": ".py",
   "mimetype": "text/x-python",
   "name": "python",
   "nbconvert_exporter": "python",
   "pygments_lexer": "ipython3",
   "version": "3.10.5"
  },
  "orig_nbformat": 4,
  "vscode": {
   "interpreter": {
    "hash": "ba631fd18c6ba4f2745f674ee284c5c9aa26a46ab7315e6d5db064e0987f2c32"
   }
  }
 },
 "nbformat": 4,
 "nbformat_minor": 2
}
